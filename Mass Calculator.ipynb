{
 "cells": [
  {
   "cell_type": "markdown",
   "id": "12537380",
   "metadata": {},
   "source": [
    "# Body Fat Calculator"
   ]
  },
  {
   "cell_type": "code",
   "execution_count": null,
   "id": "071c1eb4",
   "metadata": {},
   "outputs": [],
   "source": [
    "import math\n",
    "import ipywidgets as widgets\n",
    "from IPython.display import display, HTML\n"
   ]
  },
  {
   "cell_type": "code",
   "execution_count": 2,
   "id": "d2849c21",
   "metadata": {},
   "outputs": [],
   "source": [
    "def body_fat_calc(gender, age, height_ft, height_in_extra, weight_kg, neck, waist, hip=0):\n",
    "    height_in = height_ft * 12 + height_in_extra\n",
    "\n",
    "    if gender == \"Female\":\n",
    "        bf = 163.205 * math.log10(waist + hip - neck) - 97.684 * math.log10(height_in) - 78.387\n",
    "    else:\n",
    "        bf = 86.010 * math.log10(waist - neck) - 70.041 * math.log10(height_in) + 36.76\n",
    "    \n",
    "    fat_mass = weight_kg * (bf / 100)\n",
    "    lean_mass = weight_kg - fat_mass\n",
    "\n",
    "    result_html = f\"\"\"\n",
    "    <div style='\n",
    "        border: 2px solid #4CAF50; \n",
    "        border-radius: 10px; \n",
    "        text-align: center;\n",
    "        width: 400px;\n",
    "        margin-left: auto;\n",
    "        margin-right: auto;\n",
    "        background-color: #f9fff9;\n",
    "        font-size: 20px;\n",
    "        line-height: 0.6;\n",
    "        '>\n",
    "\n",
    "        <h2 style='color:#2E7D32;'>Your Results</h2>\n",
    "        <p><b>Body Fat:</b> <b style='color:#04148f;'>{bf:.2f}%</b></p>\n",
    "        <p><b>Fat Mass:</b> <b style='color:red;'>{fat_mass:.2f} kg</b></p>\n",
    "        <p><b>Lean Mass:</b> <b style='color:#0c8006;'>{lean_mass:.2f} kg</b></p>\n",
    "    </div>\n",
    "    \"\"\"\n",
    "    display(HTML(result_html))"
   ]
  },
  {
   "cell_type": "code",
   "execution_count": null,
   "id": "cdda242c",
   "metadata": {},
   "outputs": [
    {
     "data": {
      "text/html": [
       "\n",
       "<style>\n",
       "    .widget-label { font-size: 20px !important; color: darkgreen !important; font-weight: bold; }\n",
       "    .widget-readout { font-size: 20px; color: green; font-weight: bold;}\n",
       "</style>\n"
      ],
      "text/plain": [
       "<IPython.core.display.HTML object>"
      ]
     },
     "metadata": {},
     "output_type": "display_data"
    },
    {
     "data": {
      "application/vnd.jupyter.widget-view+json": {
       "model_id": "37a16d550c174236b7dee8f7c370b2b3",
       "version_major": 2,
       "version_minor": 0
      },
      "text/plain": [
       "VBox(children=(HTML(value=\"<h1 style='color:darkgreen; background-color:white;text-align:center;'>Body Fat Cal…"
      ]
     },
     "metadata": {},
     "output_type": "display_data"
    }
   ],
   "source": [
    "title = widgets.HTML(\n",
    "    \"<h1 style='color:darkgreen; \" \\\n",
    "    \"background-color:white;\" \\\n",
    "    \"text-align:center;\" \\\n",
    "    \"'>Body Fat Calculator</h1>\"\n",
    ")\n",
    "\n",
    "controls = widgets.interactive(\n",
    "    body_fat_calc,\n",
    "\n",
    "    gender = widgets.Dropdown(\n",
    "        options=[\"Female\", \"Male\"],\n",
    "        description=\"Select Gender:\",\n",
    "        style={'description_width': '400px'},\n",
    "        layout=widgets.Layout(width='600px')\n",
    "        ),\n",
    "\n",
    "    age = widgets.IntSlider(min=10, max=100, step=1, value=22, \n",
    "        description=\"Age:\",\n",
    "        style={'description_width': '400px'},  # Controls Label Width\n",
    "        layout=widgets.Layout(width='1000px')   # Controls Slider Width\n",
    "    ),\n",
    "\n",
    "    height_ft = widgets.IntSlider(min=3, max=7, step=1, value=5,\n",
    "        description=\"Height (Ft):\",\n",
    "        style={'description_width': '400px'},  # Controls Label Width\n",
    "        layout=widgets.Layout(width='1000px')   # Controls Slider Width\n",
    "    ),\n",
    "\n",
    "    height_in_extra = widgets.FloatSlider(min=0, max=11.9, step=0.5, value=6.5,\n",
    "        description=\"Height (Extra Inches):\",\n",
    "        style={'description_width': '400px'},  # Controls Label Width\n",
    "        layout=widgets.Layout(width='1000px')   # Controls Slider Width\n",
    "        ),\n",
    "\n",
    "    weight_kg = widgets.FloatSlider(min=10, max=200, step=0.5, value=64,\n",
    "        description=\"Weight (kg):\",\n",
    "        style={'description_width': '400px'},  # Controls Label Width\n",
    "        layout=widgets.Layout(width='1000px')   # Controls Slider Width\n",
    "        ),\n",
    "\n",
    "    neck = widgets.FloatSlider(min=5, max=40, step=0.5, value=12.6,\n",
    "        description=\"Neck Circumference (inches):\",\n",
    "        style={'description_width': '400px'},  # Controls Label Width\n",
    "        layout=widgets.Layout(width='1000px')   # Controls Slider Width\n",
    "        ),\n",
    "\n",
    "    waist = widgets.FloatSlider(min=10, max=80, step=0.5, value=28.2,\n",
    "        description=\"Waist Circumference (inches):\",\n",
    "        style={'description_width': '400px'},  # Controls Label Width\n",
    "        layout=widgets.Layout(width='1000px')   # Controls Slider Width\n",
    "        ),\n",
    "\n",
    "    hip = widgets.FloatSlider(min=20, max=100, step=0.5, value=35.5, \n",
    "        description=\"Hip Circumference (inches):\",\n",
    "        style={'description_width': '400px'},  # Controls Label Width\n",
    "        layout=widgets.Layout(width='1000px')   # Controls Slider Width\n",
    "        )\n",
    "        \n",
    "    )\n",
    "\n",
    "\n",
    "display(HTML(\"\"\"\n",
    "<style>\n",
    "    .widget-label { font-size: 20px !important; color: darkgreen !important; font-weight: bold; }\n",
    "    .widget-readout { font-size: 20px; color: green; font-weight: bold;}\n",
    "</style>\n",
    "\"\"\"))\n",
    "\n",
    "# Combining the title + interact block\n",
    "ui = widgets.VBox([title, controls])\n",
    "display(ui)"
   ]
  },
  {
   "cell_type": "code",
   "execution_count": null,
   "id": "b74463f3",
   "metadata": {},
   "outputs": [],
   "source": []
  }
 ],
 "metadata": {
  "kernelspec": {
   "display_name": "base",
   "language": "python",
   "name": "python3"
  },
  "language_info": {
   "codemirror_mode": {
    "name": "ipython",
    "version": 3
   },
   "file_extension": ".py",
   "mimetype": "text/x-python",
   "name": "python",
   "nbconvert_exporter": "python",
   "pygments_lexer": "ipython3",
   "version": "3.11.5"
  }
 },
 "nbformat": 4,
 "nbformat_minor": 5
}
